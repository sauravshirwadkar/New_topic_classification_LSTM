{
 "cells": [
  {
   "cell_type": "code",
   "execution_count": 1,
   "id": "60e6158c",
   "metadata": {},
   "outputs": [],
   "source": [
    "import pandas as pd"
   ]
  },
  {
   "cell_type": "code",
   "execution_count": 2,
   "id": "62fcddbb",
   "metadata": {},
   "outputs": [
    {
     "data": {
      "text/html": [
       "<div>\n",
       "<style scoped>\n",
       "    .dataframe tbody tr th:only-of-type {\n",
       "        vertical-align: middle;\n",
       "    }\n",
       "\n",
       "    .dataframe tbody tr th {\n",
       "        vertical-align: top;\n",
       "    }\n",
       "\n",
       "    .dataframe thead th {\n",
       "        text-align: right;\n",
       "    }\n",
       "</style>\n",
       "<table border=\"1\" class=\"dataframe\">\n",
       "  <thead>\n",
       "    <tr style=\"text-align: right;\">\n",
       "      <th></th>\n",
       "      <th>Class Index</th>\n",
       "      <th>Title</th>\n",
       "      <th>Description</th>\n",
       "    </tr>\n",
       "  </thead>\n",
       "  <tbody>\n",
       "    <tr>\n",
       "      <th>0</th>\n",
       "      <td>3</td>\n",
       "      <td>Fears for T N pension after talks</td>\n",
       "      <td>Unions representing workers at Turner   Newall...</td>\n",
       "    </tr>\n",
       "    <tr>\n",
       "      <th>1</th>\n",
       "      <td>4</td>\n",
       "      <td>The Race is On: Second Private Team Sets Launc...</td>\n",
       "      <td>SPACE.com - TORONTO, Canada -- A second\\team o...</td>\n",
       "    </tr>\n",
       "    <tr>\n",
       "      <th>2</th>\n",
       "      <td>4</td>\n",
       "      <td>Ky. Company Wins Grant to Study Peptides (AP)</td>\n",
       "      <td>AP - A company founded by a chemistry research...</td>\n",
       "    </tr>\n",
       "    <tr>\n",
       "      <th>3</th>\n",
       "      <td>4</td>\n",
       "      <td>Prediction Unit Helps Forecast Wildfires (AP)</td>\n",
       "      <td>AP - It's barely dawn when Mike Fitzpatrick st...</td>\n",
       "    </tr>\n",
       "    <tr>\n",
       "      <th>4</th>\n",
       "      <td>4</td>\n",
       "      <td>Calif. Aims to Limit Farm-Related Smog (AP)</td>\n",
       "      <td>AP - Southern California's smog-fighting agenc...</td>\n",
       "    </tr>\n",
       "  </tbody>\n",
       "</table>\n",
       "</div>"
      ],
      "text/plain": [
       "   Class Index                                              Title  \\\n",
       "0            3                  Fears for T N pension after talks   \n",
       "1            4  The Race is On: Second Private Team Sets Launc...   \n",
       "2            4      Ky. Company Wins Grant to Study Peptides (AP)   \n",
       "3            4      Prediction Unit Helps Forecast Wildfires (AP)   \n",
       "4            4        Calif. Aims to Limit Farm-Related Smog (AP)   \n",
       "\n",
       "                                         Description  \n",
       "0  Unions representing workers at Turner   Newall...  \n",
       "1  SPACE.com - TORONTO, Canada -- A second\\team o...  \n",
       "2  AP - A company founded by a chemistry research...  \n",
       "3  AP - It's barely dawn when Mike Fitzpatrick st...  \n",
       "4  AP - Southern California's smog-fighting agenc...  "
      ]
     },
     "execution_count": 2,
     "metadata": {},
     "output_type": "execute_result"
    }
   ],
   "source": [
    "# The class ids are numbered 1-4 where 1 represents World, 2 represents Sports, \n",
    "# 3 represents Business and 4 represents Sci/Tech.\n",
    "df = pd.read_csv(\"test.csv\")\n",
    "df.head(5)"
   ]
  },
  {
   "cell_type": "code",
   "execution_count": 3,
   "id": "1741d905",
   "metadata": {},
   "outputs": [
    {
     "data": {
      "text/plain": [
       "(7600, 3)"
      ]
     },
     "execution_count": 3,
     "metadata": {},
     "output_type": "execute_result"
    }
   ],
   "source": [
    "df.shape"
   ]
  },
  {
   "cell_type": "code",
   "execution_count": 4,
   "id": "68ab8453",
   "metadata": {},
   "outputs": [],
   "source": [
    "df.dropna(inplace=True)"
   ]
  },
  {
   "cell_type": "code",
   "execution_count": 5,
   "id": "9293dce8",
   "metadata": {},
   "outputs": [
    {
     "data": {
      "text/plain": [
       "(7600, 3)"
      ]
     },
     "execution_count": 5,
     "metadata": {},
     "output_type": "execute_result"
    }
   ],
   "source": [
    "df.shape"
   ]
  },
  {
   "cell_type": "code",
   "execution_count": 6,
   "id": "fe1cf50c",
   "metadata": {},
   "outputs": [
    {
     "data": {
      "text/plain": [
       "Class Index    0\n",
       "Title          0\n",
       "Description    0\n",
       "dtype: int64"
      ]
     },
     "execution_count": 6,
     "metadata": {},
     "output_type": "execute_result"
    }
   ],
   "source": [
    "df.isnull().sum()"
   ]
  },
  {
   "cell_type": "code",
   "execution_count": 7,
   "id": "7fe14174",
   "metadata": {},
   "outputs": [
    {
     "data": {
      "text/html": [
       "<div>\n",
       "<style scoped>\n",
       "    .dataframe tbody tr th:only-of-type {\n",
       "        vertical-align: middle;\n",
       "    }\n",
       "\n",
       "    .dataframe tbody tr th {\n",
       "        vertical-align: top;\n",
       "    }\n",
       "\n",
       "    .dataframe thead th {\n",
       "        text-align: right;\n",
       "    }\n",
       "</style>\n",
       "<table border=\"1\" class=\"dataframe\">\n",
       "  <thead>\n",
       "    <tr style=\"text-align: right;\">\n",
       "      <th></th>\n",
       "      <th>Class Index</th>\n",
       "      <th>Title</th>\n",
       "      <th>Description</th>\n",
       "      <th>final_text</th>\n",
       "    </tr>\n",
       "  </thead>\n",
       "  <tbody>\n",
       "    <tr>\n",
       "      <th>0</th>\n",
       "      <td>3</td>\n",
       "      <td>Fears for T N pension after talks</td>\n",
       "      <td>Unions representing workers at Turner   Newall...</td>\n",
       "      <td>Fears for T N pension after talks Unions repre...</td>\n",
       "    </tr>\n",
       "    <tr>\n",
       "      <th>1</th>\n",
       "      <td>4</td>\n",
       "      <td>The Race is On: Second Private Team Sets Launc...</td>\n",
       "      <td>SPACE.com - TORONTO, Canada -- A second\\team o...</td>\n",
       "      <td>The Race is On: Second Private Team Sets Launc...</td>\n",
       "    </tr>\n",
       "    <tr>\n",
       "      <th>2</th>\n",
       "      <td>4</td>\n",
       "      <td>Ky. Company Wins Grant to Study Peptides (AP)</td>\n",
       "      <td>AP - A company founded by a chemistry research...</td>\n",
       "      <td>Ky. Company Wins Grant to Study Peptides (AP) ...</td>\n",
       "    </tr>\n",
       "    <tr>\n",
       "      <th>3</th>\n",
       "      <td>4</td>\n",
       "      <td>Prediction Unit Helps Forecast Wildfires (AP)</td>\n",
       "      <td>AP - It's barely dawn when Mike Fitzpatrick st...</td>\n",
       "      <td>Prediction Unit Helps Forecast Wildfires (AP) ...</td>\n",
       "    </tr>\n",
       "    <tr>\n",
       "      <th>4</th>\n",
       "      <td>4</td>\n",
       "      <td>Calif. Aims to Limit Farm-Related Smog (AP)</td>\n",
       "      <td>AP - Southern California's smog-fighting agenc...</td>\n",
       "      <td>Calif. Aims to Limit Farm-Related Smog (AP) AP...</td>\n",
       "    </tr>\n",
       "  </tbody>\n",
       "</table>\n",
       "</div>"
      ],
      "text/plain": [
       "   Class Index                                              Title  \\\n",
       "0            3                  Fears for T N pension after talks   \n",
       "1            4  The Race is On: Second Private Team Sets Launc...   \n",
       "2            4      Ky. Company Wins Grant to Study Peptides (AP)   \n",
       "3            4      Prediction Unit Helps Forecast Wildfires (AP)   \n",
       "4            4        Calif. Aims to Limit Farm-Related Smog (AP)   \n",
       "\n",
       "                                         Description  \\\n",
       "0  Unions representing workers at Turner   Newall...   \n",
       "1  SPACE.com - TORONTO, Canada -- A second\\team o...   \n",
       "2  AP - A company founded by a chemistry research...   \n",
       "3  AP - It's barely dawn when Mike Fitzpatrick st...   \n",
       "4  AP - Southern California's smog-fighting agenc...   \n",
       "\n",
       "                                          final_text  \n",
       "0  Fears for T N pension after talks Unions repre...  \n",
       "1  The Race is On: Second Private Team Sets Launc...  \n",
       "2  Ky. Company Wins Grant to Study Peptides (AP) ...  \n",
       "3  Prediction Unit Helps Forecast Wildfires (AP) ...  \n",
       "4  Calif. Aims to Limit Farm-Related Smog (AP) AP...  "
      ]
     },
     "execution_count": 7,
     "metadata": {},
     "output_type": "execute_result"
    }
   ],
   "source": [
    "df[\"final_text\"] = df[\"Title\"] + \" \" + df[\"Description\"]\n",
    "df.head()"
   ]
  },
  {
   "cell_type": "code",
   "execution_count": 8,
   "id": "8be26698",
   "metadata": {},
   "outputs": [],
   "source": [
    "new_df = df.drop(['Title', 'Description'], axis=1)"
   ]
  },
  {
   "cell_type": "code",
   "execution_count": 9,
   "id": "7026057c",
   "metadata": {},
   "outputs": [
    {
     "data": {
      "text/html": [
       "<div>\n",
       "<style scoped>\n",
       "    .dataframe tbody tr th:only-of-type {\n",
       "        vertical-align: middle;\n",
       "    }\n",
       "\n",
       "    .dataframe tbody tr th {\n",
       "        vertical-align: top;\n",
       "    }\n",
       "\n",
       "    .dataframe thead th {\n",
       "        text-align: right;\n",
       "    }\n",
       "</style>\n",
       "<table border=\"1\" class=\"dataframe\">\n",
       "  <thead>\n",
       "    <tr style=\"text-align: right;\">\n",
       "      <th></th>\n",
       "      <th>Class Index</th>\n",
       "      <th>final_text</th>\n",
       "    </tr>\n",
       "  </thead>\n",
       "  <tbody>\n",
       "    <tr>\n",
       "      <th>0</th>\n",
       "      <td>3</td>\n",
       "      <td>Fears for T N pension after talks Unions repre...</td>\n",
       "    </tr>\n",
       "    <tr>\n",
       "      <th>1</th>\n",
       "      <td>4</td>\n",
       "      <td>The Race is On: Second Private Team Sets Launc...</td>\n",
       "    </tr>\n",
       "    <tr>\n",
       "      <th>2</th>\n",
       "      <td>4</td>\n",
       "      <td>Ky. Company Wins Grant to Study Peptides (AP) ...</td>\n",
       "    </tr>\n",
       "    <tr>\n",
       "      <th>3</th>\n",
       "      <td>4</td>\n",
       "      <td>Prediction Unit Helps Forecast Wildfires (AP) ...</td>\n",
       "    </tr>\n",
       "    <tr>\n",
       "      <th>4</th>\n",
       "      <td>4</td>\n",
       "      <td>Calif. Aims to Limit Farm-Related Smog (AP) AP...</td>\n",
       "    </tr>\n",
       "    <tr>\n",
       "      <th>...</th>\n",
       "      <td>...</td>\n",
       "      <td>...</td>\n",
       "    </tr>\n",
       "    <tr>\n",
       "      <th>7595</th>\n",
       "      <td>1</td>\n",
       "      <td>Around the world Ukrainian presidential candid...</td>\n",
       "    </tr>\n",
       "    <tr>\n",
       "      <th>7596</th>\n",
       "      <td>2</td>\n",
       "      <td>Void is filled with Clement With the supply of...</td>\n",
       "    </tr>\n",
       "    <tr>\n",
       "      <th>7597</th>\n",
       "      <td>2</td>\n",
       "      <td>Martinez leaves bitter Like Roger Clemens did ...</td>\n",
       "    </tr>\n",
       "    <tr>\n",
       "      <th>7598</th>\n",
       "      <td>3</td>\n",
       "      <td>5 of arthritis patients in Singapore take Bext...</td>\n",
       "    </tr>\n",
       "    <tr>\n",
       "      <th>7599</th>\n",
       "      <td>3</td>\n",
       "      <td>EBay gets into rentals EBay plans to buy the a...</td>\n",
       "    </tr>\n",
       "  </tbody>\n",
       "</table>\n",
       "<p>7600 rows × 2 columns</p>\n",
       "</div>"
      ],
      "text/plain": [
       "      Class Index                                         final_text\n",
       "0               3  Fears for T N pension after talks Unions repre...\n",
       "1               4  The Race is On: Second Private Team Sets Launc...\n",
       "2               4  Ky. Company Wins Grant to Study Peptides (AP) ...\n",
       "3               4  Prediction Unit Helps Forecast Wildfires (AP) ...\n",
       "4               4  Calif. Aims to Limit Farm-Related Smog (AP) AP...\n",
       "...           ...                                                ...\n",
       "7595            1  Around the world Ukrainian presidential candid...\n",
       "7596            2  Void is filled with Clement With the supply of...\n",
       "7597            2  Martinez leaves bitter Like Roger Clemens did ...\n",
       "7598            3  5 of arthritis patients in Singapore take Bext...\n",
       "7599            3  EBay gets into rentals EBay plans to buy the a...\n",
       "\n",
       "[7600 rows x 2 columns]"
      ]
     },
     "execution_count": 9,
     "metadata": {},
     "output_type": "execute_result"
    }
   ],
   "source": [
    "new_df"
   ]
  },
  {
   "cell_type": "markdown",
   "id": "4d8baa5d",
   "metadata": {},
   "source": [
    "# Preprocessing"
   ]
  },
  {
   "cell_type": "code",
   "execution_count": 10,
   "id": "b653efc9",
   "metadata": {},
   "outputs": [
    {
     "name": "stderr",
     "output_type": "stream",
     "text": [
      "[nltk_data] Downloading package punkt to\n",
      "[nltk_data]     C:\\Users\\saura\\AppData\\Roaming\\nltk_data...\n",
      "[nltk_data]   Package punkt is already up-to-date!\n",
      "[nltk_data] Downloading package stopwords to\n",
      "[nltk_data]     C:\\Users\\saura\\AppData\\Roaming\\nltk_data...\n",
      "[nltk_data]   Package stopwords is already up-to-date!\n"
     ]
    }
   ],
   "source": [
    "import nltk\n",
    "import string\n",
    "from nltk.corpus import stopwords\n",
    "from nltk.stem import PorterStemmer\n",
    "from nltk.tokenize import word_tokenize\n",
    "import re\n",
    "\n",
    "nltk.download('punkt')\n",
    "nltk.download('stopwords')\n",
    "\n",
    "\n",
    "def preprocess_text(text):\n",
    "     # Lowercasing\n",
    "    text = text.lower()\n",
    "    \n",
    "    # Remove HTML tags\n",
    "    text = re.sub(r'<[^>]+>', '', text)\n",
    "    \n",
    "    # Remove URLs\n",
    "    text = re.sub(r'http\\S+', '', text)\n",
    "    \n",
    "    # Remove multiple spaces\n",
    "    text = re.sub(r'\\s+',' ',text)\n",
    "    \n",
    "    # Remove punctuation and numbers\n",
    "    text = re.sub('[^a-zA-Z]',' ',text)\n",
    "    \n",
    "    # Tokenization\n",
    "    tokens = word_tokenize(text)\n",
    "    \n",
    "    # Removing Punctuation\n",
    "    tokens = [word for word in tokens if word not in string.punctuation]\n",
    "    \n",
    "    # Removing Stop Words\n",
    "    stop_words = set(stopwords.words('english'))\n",
    "    filtered_tokens = [word for word in tokens if word not in stop_words]\n",
    "    \n",
    "    # Stemming\n",
    "    stemmer = PorterStemmer()\n",
    "    stemmed_tokens = [stemmer.stem(word) for word in filtered_tokens]\n",
    "    \n",
    "    # Join the tokens back into a single string\n",
    "    preprocessed_text = ' '.join(stemmed_tokens)\n",
    "    \n",
    "    return preprocessed_text\n"
   ]
  },
  {
   "cell_type": "code",
   "execution_count": 11,
   "id": "c9bae355",
   "metadata": {},
   "outputs": [],
   "source": [
    "new_df[\"preprocessed_text\"] = new_df[\"final_text\"].apply(preprocess_text)"
   ]
  },
  {
   "cell_type": "code",
   "execution_count": 12,
   "id": "e640b3b2",
   "metadata": {},
   "outputs": [
    {
     "data": {
      "text/html": [
       "<div>\n",
       "<style scoped>\n",
       "    .dataframe tbody tr th:only-of-type {\n",
       "        vertical-align: middle;\n",
       "    }\n",
       "\n",
       "    .dataframe tbody tr th {\n",
       "        vertical-align: top;\n",
       "    }\n",
       "\n",
       "    .dataframe thead th {\n",
       "        text-align: right;\n",
       "    }\n",
       "</style>\n",
       "<table border=\"1\" class=\"dataframe\">\n",
       "  <thead>\n",
       "    <tr style=\"text-align: right;\">\n",
       "      <th></th>\n",
       "      <th>Class Index</th>\n",
       "      <th>final_text</th>\n",
       "      <th>preprocessed_text</th>\n",
       "    </tr>\n",
       "  </thead>\n",
       "  <tbody>\n",
       "    <tr>\n",
       "      <th>0</th>\n",
       "      <td>3</td>\n",
       "      <td>Fears for T N pension after talks Unions repre...</td>\n",
       "      <td>fear n pension talk union repres worker turner...</td>\n",
       "    </tr>\n",
       "    <tr>\n",
       "      <th>1</th>\n",
       "      <td>4</td>\n",
       "      <td>The Race is On: Second Private Team Sets Launc...</td>\n",
       "      <td>race second privat team set launch date human ...</td>\n",
       "    </tr>\n",
       "    <tr>\n",
       "      <th>2</th>\n",
       "      <td>4</td>\n",
       "      <td>Ky. Company Wins Grant to Study Peptides (AP) ...</td>\n",
       "      <td>ky compani win grant studi peptid ap ap compan...</td>\n",
       "    </tr>\n",
       "    <tr>\n",
       "      <th>3</th>\n",
       "      <td>4</td>\n",
       "      <td>Prediction Unit Helps Forecast Wildfires (AP) ...</td>\n",
       "      <td>predict unit help forecast wildfir ap ap bare ...</td>\n",
       "    </tr>\n",
       "    <tr>\n",
       "      <th>4</th>\n",
       "      <td>4</td>\n",
       "      <td>Calif. Aims to Limit Farm-Related Smog (AP) AP...</td>\n",
       "      <td>calif aim limit farm relat smog ap ap southern...</td>\n",
       "    </tr>\n",
       "  </tbody>\n",
       "</table>\n",
       "</div>"
      ],
      "text/plain": [
       "   Class Index                                         final_text  \\\n",
       "0            3  Fears for T N pension after talks Unions repre...   \n",
       "1            4  The Race is On: Second Private Team Sets Launc...   \n",
       "2            4  Ky. Company Wins Grant to Study Peptides (AP) ...   \n",
       "3            4  Prediction Unit Helps Forecast Wildfires (AP) ...   \n",
       "4            4  Calif. Aims to Limit Farm-Related Smog (AP) AP...   \n",
       "\n",
       "                                   preprocessed_text  \n",
       "0  fear n pension talk union repres worker turner...  \n",
       "1  race second privat team set launch date human ...  \n",
       "2  ky compani win grant studi peptid ap ap compan...  \n",
       "3  predict unit help forecast wildfir ap ap bare ...  \n",
       "4  calif aim limit farm relat smog ap ap southern...  "
      ]
     },
     "execution_count": 12,
     "metadata": {},
     "output_type": "execute_result"
    }
   ],
   "source": [
    "new_df.head()"
   ]
  },
  {
   "cell_type": "code",
   "execution_count": 13,
   "id": "94dd7410",
   "metadata": {},
   "outputs": [],
   "source": [
    "#convert dataframe to values\n",
    "data_process = new_df['preprocessed_text'].values\n",
    "label = new_df['Class Index'].apply(lambda x:x-1).values"
   ]
  },
  {
   "cell_type": "code",
   "execution_count": 14,
   "id": "4b6a92a5",
   "metadata": {},
   "outputs": [
    {
     "data": {
      "text/plain": [
       "array(['fear n pension talk union repres worker turner newal say disappoint talk stricken parent firm feder mogul',\n",
       "       'race second privat team set launch date human spaceflight space com space com toronto canada second team rocket compet million ansari x prize contest privat fund suborbit space flight offici announc first launch date man rocket',\n",
       "       'ky compani win grant studi peptid ap ap compani found chemistri research univers louisvil grant develop method produc better peptid short chain amino acid build block protein',\n",
       "       'predict unit help forecast wildfir ap ap bare dawn mike fitzpatrick start shift blur color map figur endless chart alreadi know day bring lightn strike place expect wind pick moist place dri flame roar',\n",
       "       'calif aim limit farm relat smog ap ap southern california smog fight agenc went emiss bovin varieti friday adopt nation first rule reduc air pollut dairi cow manur',\n",
       "       'open letter british copyright indoctrin school british depart educ skill dfe recent launch music manifesto campaign ostens intent educ next gener british musician unfortun also team music industri emi variou artist make popular emi appar negoti end well children school indoctrin illeg download music ignor audac got littl wrote open letter dfe unfortun pedant suppos write gover repres hope find use perhap feel inspir someth similar thing happen area',\n",
       "       'loos war terror sven jaschan self confess author netski sasser virus respons percent viru infect accord six month viru roundup publish wednesday antiviru compani sopho year old jaschan taken custodi germani may polic said admit program netski sasser worm someth expert microsoft confirm microsoft antiviru reward program led teenag arrest five month preced jaschan captur least variant netski one port scan network worm sasser graham cluley senior technolog consult sopho said staggeri',\n",
       "       'foafkey foaf pgp key distribut bloom filter foaf loaf bloom filter lot interest properti social network whitelist distribut think go one level higher though includ gpg openpgp key fingerpr distribut foaf file simpl web trust base key distribut use foaf includ pgp key fingerprint ident could mean lot includ pgp key fingerprint within foaf file direct friend includ bloom filter pgp key fingerprint entir whitelist sourc foaf file would cours need encrypt whitelist would popul social network client discov new identit',\n",
       "       'e mail scam target polic chief wiltshir polic warn phish fraud squad chief target',\n",
       "       'card fraud unit net card first two year uk dedic card fraud unit recov stolen card arrest estim save'],\n",
       "      dtype=object)"
      ]
     },
     "execution_count": 14,
     "metadata": {},
     "output_type": "execute_result"
    }
   ],
   "source": [
    "# view data array\n",
    "data_process[0:10]"
   ]
  },
  {
   "cell_type": "code",
   "execution_count": 15,
   "id": "1d5d4aef",
   "metadata": {},
   "outputs": [
    {
     "data": {
      "text/plain": [
       "array([2, 3, 3, ..., 1, 2, 2], dtype=int64)"
      ]
     },
     "execution_count": 15,
     "metadata": {},
     "output_type": "execute_result"
    }
   ],
   "source": [
    "# view label array\n",
    "label"
   ]
  },
  {
   "cell_type": "code",
   "execution_count": 19,
   "id": "31269244",
   "metadata": {},
   "outputs": [
    {
     "data": {
      "text/plain": [
       "((6080,), (1520,), (6080,), (1520,))"
      ]
     },
     "execution_count": 19,
     "metadata": {},
     "output_type": "execute_result"
    }
   ],
   "source": [
    "# split data into training and validation\n",
    "\n",
    "from sklearn.model_selection import train_test_split\n",
    "\n",
    "X_train, X_test, y_train, y_test = train_test_split(data_process, label, test_size=0.2, shuffle=True,  stratify=label, random_state=42)\n",
    "\n",
    "X_train.shape, X_test.shape, y_train.shape, y_test.shape"
   ]
  },
  {
   "cell_type": "code",
   "execution_count": 20,
   "id": "d216a238",
   "metadata": {},
   "outputs": [],
   "source": [
    "# tokenizer\n",
    "from tensorflow.keras.preprocessing.text import Tokenizer\n",
    "from tensorflow.keras.preprocessing.sequence import pad_sequences\n",
    " \n",
    "tokenizer = Tokenizer(num_words=10000, oov_token='x')\n",
    "tokenizer.fit_on_texts(X_train) \n",
    "tokenizer.fit_on_texts(X_test)\n",
    "\n",
    "word_index = tokenizer.word_index\n",
    "total_words = len(word_index)+1\n",
    " \n",
    "sekuens_train = tokenizer.texts_to_sequences(X_train)\n",
    "sekuens_test = tokenizer.texts_to_sequences(X_test)\n",
    " \n",
    "padded_train = pad_sequences(sekuens_train, maxlen=100) \n",
    "padded_test = pad_sequences(sekuens_test, maxlen=100)"
   ]
  },
  {
   "cell_type": "code",
   "execution_count": 21,
   "id": "8c2ff7ed",
   "metadata": {},
   "outputs": [
    {
     "name": "stdout",
     "output_type": "stream",
     "text": [
      "train datashape : (6080, 100)\n",
      "test datashape : (1520, 100)\n"
     ]
    },
    {
     "data": {
      "text/plain": [
       "14566"
      ]
     },
     "execution_count": 21,
     "metadata": {},
     "output_type": "execute_result"
    }
   ],
   "source": [
    "print(f'train datashape : {padded_train.shape}')\n",
    "print(f'test datashape : {padded_test.shape}')\n",
    "total_words"
   ]
  },
  {
   "cell_type": "code",
   "execution_count": 22,
   "id": "7924e60b",
   "metadata": {},
   "outputs": [],
   "source": [
    "import tensorflow as tf\n",
    "from tensorflow import keras\n",
    "from tensorflow.keras import layers,Sequential\n",
    "from sklearn.model_selection import train_test_split\n",
    "from tensorflow.keras.preprocessing.text import Tokenizer\n",
    "from tensorflow.keras.preprocessing.sequence import pad_sequences\n",
    "from tensorflow.keras.callbacks import EarlyStopping,ModelCheckpoint"
   ]
  },
  {
   "cell_type": "code",
   "execution_count": 24,
   "id": "23a75902",
   "metadata": {},
   "outputs": [
    {
     "name": "stdout",
     "output_type": "stream",
     "text": [
      "Model: \"sequential_1\"\n",
      "_________________________________________________________________\n",
      " Layer (type)                Output Shape              Param #   \n",
      "=================================================================\n",
      " embedding_1 (Embedding)     (None, 100, 128)          1864448   \n",
      "                                                                 \n",
      " lstm_1 (LSTM)               (None, 128)               131584    \n",
      "                                                                 \n",
      " dense_3 (Dense)             (None, 128)               16512     \n",
      "                                                                 \n",
      " dropout_2 (Dropout)         (None, 128)               0         \n",
      "                                                                 \n",
      " dense_4 (Dense)             (None, 64)                8256      \n",
      "                                                                 \n",
      " dropout_3 (Dropout)         (None, 64)                0         \n",
      "                                                                 \n",
      " dense_5 (Dense)             (None, 4)                 260       \n",
      "                                                                 \n",
      "=================================================================\n",
      "Total params: 2021060 (7.71 MB)\n",
      "Trainable params: 2021060 (7.71 MB)\n",
      "Non-trainable params: 0 (0.00 Byte)\n",
      "_________________________________________________________________\n"
     ]
    }
   ],
   "source": [
    "import tensorflow as tf\n",
    "\n",
    "model = tf.keras.Sequential([\n",
    "    tf.keras.layers.Embedding(input_dim=total_words,output_dim=128,input_length=100),\n",
    "    tf.keras.layers.LSTM(128),\n",
    "    tf.keras.layers.Dense(128, activation='relu'),\n",
    "    tf.keras.layers.Dropout(0.25),\n",
    "    tf.keras.layers.Dense(64, activation='relu'),\n",
    "    tf.keras.layers.Dropout(0.25),\n",
    "    tf.keras.layers.Dense(4, activation='softmax')\n",
    "])\n",
    "\n",
    "model.compile(optimizer='adam', metrics=['accuracy'], loss='sparse_categorical_crossentropy')\n",
    "model.summary()"
   ]
  },
  {
   "cell_type": "code",
   "execution_count": 26,
   "id": "d65f3a32",
   "metadata": {},
   "outputs": [
    {
     "name": "stdout",
     "output_type": "stream",
     "text": [
      "Epoch 1/30\n",
      "25/25 - 13s - loss: 1.3117 - accuracy: 0.4580 - val_loss: 0.9634 - val_accuracy: 0.7008 - 13s/epoch - 501ms/step\n",
      "Epoch 2/30\n",
      "25/25 - 9s - loss: 0.6686 - accuracy: 0.7042 - val_loss: 0.5534 - val_accuracy: 0.7977 - 9s/epoch - 365ms/step\n",
      "Epoch 3/30\n",
      "25/25 - 9s - loss: 0.3288 - accuracy: 0.8771 - val_loss: 0.4467 - val_accuracy: 0.8641 - 9s/epoch - 362ms/step\n",
      "Epoch 4/30\n",
      "25/25 - 9s - loss: 0.1744 - accuracy: 0.9473 - val_loss: 0.5305 - val_accuracy: 0.8500 - 9s/epoch - 360ms/step\n",
      "Epoch 5/30\n",
      "25/25 - 9s - loss: 0.1059 - accuracy: 0.9684 - val_loss: 0.5959 - val_accuracy: 0.8477 - 9s/epoch - 342ms/step\n",
      "Epoch 6/30\n",
      "25/25 - 9s - loss: 0.0654 - accuracy: 0.9833 - val_loss: 0.7123 - val_accuracy: 0.8383 - 9s/epoch - 344ms/step\n"
     ]
    }
   ],
   "source": [
    "# model fit\n",
    "from keras.callbacks import EarlyStopping\n",
    "history = model.fit(padded_train, label_train, \n",
    "                    batch_size=256, \n",
    "                    epochs=30, \n",
    "                    validation_data=(padded_test, label_test),\n",
    "                    verbose=2, callbacks=[EarlyStopping(monitor='val_loss', patience=3, min_delta=0.0001)],\n",
    "                    validation_steps=5, steps_per_epoch=25)\n"
   ]
  },
  {
   "cell_type": "code",
   "execution_count": 32,
   "id": "25048c9a",
   "metadata": {},
   "outputs": [],
   "source": [
    "# define function plot visualization training and validation process\n",
    "def plot_history(history):\n",
    "    acc = history.history['accuracy']\n",
    "    val_acc = history.history['val_accuracy']\n",
    "    loss = history.history['loss']\n",
    "    val_loss = history.history['val_loss']\n",
    "    x = range(1, len(acc) + 1)\n",
    "\n",
    "    print(\"Training Accuracy: %.2f\" % acc[-1])\n",
    "    print(\"Training Loss: %.2f\" % loss[-1])\n",
    "    print(\"Validation Accuracy: %.2f\" % val_acc[-1])\n",
    "    print(\"Validation Loss: %.2f\" % val_loss[-1] + '\\n\\n')\n",
    "\n",
    "    # make a visualization of the results of the neural network between loss, validation loss and accuracy, validation accuracy\n",
    "    plt.figure(figsize=(15, 5))\n",
    "\n",
    "    # create visualizations for accuracy values in the training and validation process\n",
    "    plt.subplot(1, 2, 1)\n",
    "    plt.plot(acc, 'b', label='Train acc')\n",
    "    plt.plot(val_acc, 'r', label='Validation acc')\n",
    "    plt.title('Train and validation accuracy Visualization')\n",
    "    plt.xlabel(\"Epochs\")\n",
    "    plt.legend()\n",
    "\n",
    "    # create visualizations for loss values in the training and validation process\n",
    "    plt.subplot(1, 2, 2)\n",
    "    plt.plot(loss, 'b', label='Train loss')\n",
    "    plt.plot(val_loss, 'r', label='Validation loss')\n",
    "    plt.title('Train and validation loss Visualization')\n",
    "    plt.legend()"
   ]
  },
  {
   "cell_type": "code",
   "execution_count": 33,
   "id": "f1d9a8ec",
   "metadata": {},
   "outputs": [
    {
     "name": "stdout",
     "output_type": "stream",
     "text": [
      "Training Accuracy: 0.98\n",
      "Training Loss: 0.07\n",
      "Validation Accuracy: 0.84\n",
      "Validation Loss: 0.71\n",
      "\n",
      "\n"
     ]
    },
    {
     "data": {
      "image/png": "[encoded data removed]",
      "text/plain": [
       "<Figure size 1500x500 with 2 Axes>"
      ]
     },
     "metadata": {},
     "output_type": "display_data"
    }
   ],
   "source": [
    "import matplotlib.pyplot as plt\n",
    "%matplotlib inline\n",
    "plot_history(history)"
   ]
  },
  {
   "cell_type": "code",
   "execution_count": 58,
   "id": "ae08bdaf",
   "metadata": {},
   "outputs": [
    {
     "name": "stdout",
     "output_type": "stream",
     "text": [
      "48/48 [==============================] - 1s 25ms/step - loss: 0.6973 - accuracy: 0.8388\n"
     ]
    }
   ],
   "source": [
    "score = model.evaluate(padded_test,y_test,verbose=1)"
   ]
  },
  {
   "cell_type": "code",
   "execution_count": 59,
   "id": "609a582f",
   "metadata": {},
   "outputs": [
    {
     "data": {
      "text/plain": [
       "[0.6973017454147339, 0.8388158082962036]"
      ]
     },
     "execution_count": 59,
     "metadata": {},
     "output_type": "execute_result"
    }
   ],
   "source": [
    "score"
   ]
  },
  {
   "cell_type": "code",
   "execution_count": 60,
   "id": "ceb8c8a8",
   "metadata": {},
   "outputs": [
    {
     "name": "stdout",
     "output_type": "stream",
     "text": [
      "Testing Accuracy:  83.88158082962036\n"
     ]
    }
   ],
   "source": [
    "print(\"Testing Accuracy: \",score[1]*100)"
   ]
  },
  {
   "cell_type": "code",
   "execution_count": 34,
   "id": "565abf78",
   "metadata": {},
   "outputs": [],
   "source": [
    "text_data = \"Scientists Discover Breakthrough Method for Efficiently Storing Renewable Energy Tech Giant Unveils Cutting-Edge Quantum Computing Solution for Complex Problems\""
   ]
  },
  {
   "cell_type": "code",
   "execution_count": 50,
   "id": "00ee343d",
   "metadata": {},
   "outputs": [
    {
     "name": "stdout",
     "output_type": "stream",
     "text": [
      "1/1 [==============================] - 0s 36ms/step\n",
      "[[2.4388650e-05 9.8927617e-01 4.7435551e-06 1.0694636e-02]] Sports\n"
     ]
    }
   ],
   "source": [
    "import numpy as np\n",
    "new_complaint = ['Cricket Australia is set to begin the team’s pre-season later this month under a set of new training protocols devised for the safety of players amid the COVID-19 pandemic.']\n",
    "seq = tokenizer.texts_to_sequences(new_complaint)\n",
    "padded = pad_sequences(seq, maxlen=100)\n",
    "pred = model.predict(padded)\n",
    "labels = ['World','Sports','Business','Sci/Tech']\n",
    "print(pred, labels[np.argmax(pred)])"
   ]
  },
  {
   "cell_type": "code",
   "execution_count": 55,
   "id": "ba0ff094",
   "metadata": {},
   "outputs": [
    {
     "name": "stdout",
     "output_type": "stream",
     "text": [
      "1/1 [==============================] - 0s 35ms/step\n",
      "[[7.1934974e-06 2.0902514e-01 3.0209743e-05 7.9093742e-01]] Sci/Tech\n"
     ]
    }
   ],
   "source": [
    "import numpy as np\n",
    "new_complaint_1 = ['Scientists Discover Breakthrough Method for Efficiently Storing Renewable Energy Tech Giant Unveils Cutting-Edge Quantum Computing Solution for Complex Problems']\n",
    "seq = tokenizer.texts_to_sequences(new_complaint_1)\n",
    "padded = pad_sequences(seq, maxlen=100)\n",
    "pred = model.predict(padded)\n",
    "labels = ['World','Sports','Business','Sci/Tech']\n",
    "print(pred, labels[np.argmax(pred)])"
   ]
  },
  {
   "cell_type": "code",
   "execution_count": null,
   "id": "c13ff707",
   "metadata": {},
   "outputs": [],
   "source": []
  },
  {
   "cell_type": "code",
   "execution_count": null,
   "id": "3fac02bd",
   "metadata": {},
   "outputs": [],
   "source": []
  }
 ],
 "metadata": {
  "kernelspec": {
   "display_name": "Python 3 (ipykernel)",
   "language": "python",
   "name": "python3"
  },
  "language_info": {
   "codemirror_mode": {
    "name": "ipython",
    "version": 3
   },
   "file_extension": ".py",
   "mimetype": "text/x-python",
   "name": "python",
   "nbconvert_exporter": "python",
   "pygments_lexer": "ipython3",
   "version": "3.11.4"
  }
 },
 "nbformat": 4,
 "nbformat_minor": 5
}
